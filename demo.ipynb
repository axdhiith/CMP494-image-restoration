{
 "cells": [
  {
   "cell_type": "code",
   "execution_count": null,
   "id": "e76e0461-3082-4e0a-b91b-2b4a5cb21c2d",
   "metadata": {},
   "outputs": [],
   "source": [
    "# train the model on the EUVP Dataset - Paired\n",
    "# --data -> specify Paired directory path\n",
    "\n",
    "!python train.py --epochs 1 --data \"./EUVP Dataset/Paired\" --num_workers 8 --batch_size 8"
   ]
  },
  {
   "cell_type": "code",
   "execution_count": null,
   "id": "f60c6966-1052-4e8b-b8c0-4f2f7ceaf1be",
   "metadata": {},
   "outputs": [],
   "source": [
    "# test the model on a EUVP Dataset - Test_samples\n",
    "\n",
    "!python test.py"
   ]
  },
  {
   "cell_type": "code",
   "execution_count": null,
   "id": "5f4aabff-798a-4c40-998b-1475f60a1fd2",
   "metadata": {},
   "outputs": [],
   "source": [
    "# inferencing of the model on a subset \"inference_dataset\" - stores the inferred images at \"inference\"\n",
    "# --data -> specify directory path containing the images to infer\n",
    "# --deep_path -> specify the weights of the Deep-WaveNet architecture\n",
    "# --funie_path -> specify the weights of the FUnIE-GANv2 architecture\n",
    "\n",
    "python infer.py --data \"./inference_dataset\" --num_workers 8 --batch_size 8 --deep_path \"./saved_model/ckpts/netG_100.pt\" --funie_path \"./saved_model/funiegan/best_gen.pth.tar\""
   ]
  }
 ],
 "metadata": {
  "kernelspec": {
   "display_name": "Python 3 (ipykernel)",
   "language": "python",
   "name": "python3"
  },
  "language_info": {
   "codemirror_mode": {
    "name": "ipython",
    "version": 3
   },
   "file_extension": ".py",
   "mimetype": "text/x-python",
   "name": "python",
   "nbconvert_exporter": "python",
   "pygments_lexer": "ipython3",
   "version": "3.12.3"
  }
 },
 "nbformat": 4,
 "nbformat_minor": 5
}
